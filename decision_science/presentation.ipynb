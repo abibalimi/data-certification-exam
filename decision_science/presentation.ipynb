{
 "cells": [
  {
   "cell_type": "markdown",
   "id": "1740abc3",
   "metadata": {
    "slideshow": {
     "slide_type": "slide"
    }
   },
   "source": [
    "# Boston Crime Analysis"
   ]
  },
  {
   "cell_type": "markdown",
   "id": "c5e358b9",
   "metadata": {
    "slideshow": {
     "slide_type": "slide"
    }
   },
   "source": [
    "# 2 questions to answer\n",
    "\n",
    "+ Nature of the crimes in Boston\n",
    "+ heterogeneity of the impact of criminality"
   ]
  },
  {
   "cell_type": "markdown",
   "id": "3feb581d",
   "metadata": {
    "slideshow": {
     "slide_type": "slide"
    }
   },
   "source": [
    "# Title"
   ]
  },
  {
   "cell_type": "markdown",
   "id": "8548b074",
   "metadata": {
    "slideshow": {
     "slide_type": "slide"
    }
   },
   "source": [
    "# Title"
   ]
  },
  {
   "cell_type": "markdown",
   "id": "67ae95e9",
   "metadata": {
    "slideshow": {
     "slide_type": "slide"
    }
   },
   "source": [
    "# Title"
   ]
  }
 ],
 "metadata": {
  "celltoolbar": "Slideshow",
  "kernelspec": {
   "display_name": "Python 3",
   "language": "python",
   "name": "python3"
  },
  "language_info": {
   "codemirror_mode": {
    "name": "ipython",
    "version": 3
   },
   "file_extension": ".py",
   "mimetype": "text/x-python",
   "name": "python",
   "nbconvert_exporter": "python",
   "pygments_lexer": "ipython3",
   "version": "3.8.6"
  },
  "toc": {
   "base_numbering": 1,
   "nav_menu": {},
   "number_sections": true,
   "sideBar": true,
   "skip_h1_title": false,
   "title_cell": "Table of Contents",
   "title_sidebar": "Contents",
   "toc_cell": false,
   "toc_position": {},
   "toc_section_display": true,
   "toc_window_display": false
  }
 },
 "nbformat": 4,
 "nbformat_minor": 5
}
